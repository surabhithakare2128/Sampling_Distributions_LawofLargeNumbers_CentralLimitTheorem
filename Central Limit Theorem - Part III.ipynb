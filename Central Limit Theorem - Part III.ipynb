{
 "cells": [
  {
   "cell_type": "markdown",
   "metadata": {},
   "source": [
    "### Central Limit Theorem - Part III\n",
    "\n",
    "You saw how the **Central Limit Theorem** worked for the sample mean in the earlier concept.  However, let's consider another example to see a case where the **Central Limit Theorem** doesn't work...\n",
    "\n",
    "Work through the questions and use the created variables to answer the questions that follow below the notebook.\n",
    "\n",
    "Run the below cell to get started."
   ]
  },
  {
   "cell_type": "code",
   "execution_count": 1,
   "metadata": {},
   "outputs": [
    {
     "data": {
      "image/png": "[encoded data removed]",
      "text/plain": [
       "<matplotlib.figure.Figure at 0x7f3978023cf8>"
      ]
     },
     "metadata": {
      "needs_background": "light"
     },
     "output_type": "display_data"
    }
   ],
   "source": [
    "import numpy as np\n",
    "import matplotlib.pyplot as plt\n",
    "\n",
    "%matplotlib inline\n",
    "np.random.seed(42)\n",
    "\n",
    "pop_data = np.random.gamma(1,100,3000)\n",
    "plt.hist(pop_data);"
   ]
  },
  {
   "cell_type": "markdown",
   "metadata": {},
   "source": [
    "`1.` In order to create the sampling distribution for the variance of 100 draws of this distribution, follow these steps:\n",
    "\n",
    "`a.` Use numpy's **random.choice** to simulate 100 draws from the `pop_data` array.   <br><br>\n",
    "`b.` Compute the variance of these 100 draws. <br><br>\n",
    "`c.` Write a loop to simulate this process 10,000 times, and store each variance into an array called **var_size_100**.<br><br>\n",
    "`d.` Plot a histogram of your sample variances.<br><br>\n",
    "`e.` Use **var_size_100** and **pop_data** to answer the quiz questions below. "
   ]
  },
  {
   "cell_type": "code",
   "execution_count": 2,
   "metadata": {},
   "outputs": [
    {
     "data": {
      "image/png": "[encoded data removed]",
      "text/plain": [
       "<matplotlib.figure.Figure at 0x7f3954e5fcc0>"
      ]
     },
     "metadata": {
      "needs_background": "light"
     },
     "output_type": "display_data"
    }
   ],
   "source": [
    "var_size_100 = []\n",
    "for _ in range(10000):\n",
    "    sample = np.random.choice(pop_data, 3)\n",
    "    var_size_100.append(sample.var())\n",
    "    \n",
    "plt.hist(var_size_100);"
   ]
  },
  {
   "cell_type": "code",
   "execution_count": null,
   "metadata": {},
   "outputs": [],
   "source": []
  }
 ],
 "metadata": {
  "kernelspec": {
   "display_name": "Python 3",
   "language": "python",
   "name": "python3"
  },
  "language_info": {
   "codemirror_mode": {
    "name": "ipython",
    "version": 3
   },
   "file_extension": ".py",
   "mimetype": "text/x-python",
   "name": "python",
   "nbconvert_exporter": "python",
   "pygments_lexer": "ipython3",
   "version": "3.6.3"
  }
 },
 "nbformat": 4,
 "nbformat_minor": 2
}
